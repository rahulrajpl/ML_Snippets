{
 "cells": [
  {
   "cell_type": "markdown",
   "metadata": {},
   "source": [
    "# Python\n",
    "\n",
    "## Versions\n",
    "\n",
    "There are two major versions of python; 2 and 3. While most code will run in both there are a few differences which cause incompatibilities. We will be using python 3, specifically 3.6.\n",
    "\n",
    "[Documentation](https://docs.python.org/3.6/)\n",
    "\n",
    "## Hello World\n",
    "\n",
    "As with any other programming language let's start with Hello World."
   ]
  },
  {
   "cell_type": "code",
   "execution_count": 1,
   "metadata": {},
   "outputs": [
    {
     "name": "stdout",
     "output_type": "stream",
     "text": [
      "Hello world\n"
     ]
    }
   ],
   "source": [
    "print('Hello world')"
   ]
  },
  {
   "cell_type": "markdown",
   "metadata": {},
   "source": [
    "## Numbers\n",
    "\n",
    "As with other languages we have both integers and floating point numbers in python, and they work just as we expect.\n",
    "\n",
    "[Documentation](https://docs.python.org/3.6/library/stdtypes.html#numeric-types-int-float-complex)"
   ]
  },
  {
   "cell_type": "code",
   "execution_count": 2,
   "metadata": {},
   "outputs": [
    {
     "name": "stdout",
     "output_type": "stream",
     "text": [
      "5\n",
      "6\n",
      "4\n",
      "10\n",
      "2.5\n",
      "2\n",
      "1\n",
      "25\n"
     ]
    }
   ],
   "source": [
    "n = 5\n",
    "\n",
    "print(n)    # print n\n",
    "\n",
    "print(n+1)  # addition\n",
    "print(n-1)  # subtraction\n",
    "print(n*2)  # multiplication\n",
    "print(n/2)  # division (floating point result)\n",
    "\n",
    "print(n//2) # floor division (integer result)\n",
    "print(n%2)  # modulo operation\n",
    "print(n**2) # exponentiation"
   ]
  },
  {
   "cell_type": "markdown",
   "metadata": {},
   "source": [
    "## Strings\n",
    "\n",
    "Python has great support for string operations\n",
    "\n",
    "[Documentation](https://docs.python.org/3.6/library/stdtypes.html#string-methods)"
   ]
  },
  {
   "cell_type": "code",
   "execution_count": 3,
   "metadata": {},
   "outputs": [
    {
     "name": "stdout",
     "output_type": "stream",
     "text": [
      "Hello\n",
      "HelloWorld\n",
      "Hello World\n",
      "5\n",
      "HELLO\n",
      "hello\n",
      "Hallo\n",
      "Heyyyo\n"
     ]
    }
   ],
   "source": [
    "s1 = 'Hello'\n",
    "s2 = \"World\"\n",
    "\n",
    "print(s1)\n",
    "\n",
    "print(s1+s2)                  # concatenate strings\n",
    "print(s1+' '+s2)\n",
    "\n",
    "print(len(s1))                # find the length of a string\n",
    "print(s1.upper())             # convert to uppercase\n",
    "print(s1.lower())             # convert to lowercase\n",
    "print(s1.replace('e','a'))    # replace some character with something else\n",
    "print(s1.replace('ll','yyy'))"
   ]
  },
  {
   "cell_type": "markdown",
   "metadata": {},
   "source": [
    "## Lists\n",
    "\n",
    "Lists in python are similar to arrays in other languages. However lists have no predefined fixed size and can grow as needed. Lists can also contain items of different types (numbers, characters, strings, objects) unlike arrays in general.\n",
    "\n",
    "[Documentation](https://docs.python.org/3.6/library/stdtypes.html#lists)"
   ]
  },
  {
   "cell_type": "code",
   "execution_count": 4,
   "metadata": {},
   "outputs": [
    {
     "name": "stdout",
     "output_type": "stream",
     "text": [
      "[1, 2, 3, 4, 5]\n",
      "5\n",
      "1\n",
      "3\n",
      "5\n",
      "[2, 3, 4]\n",
      "[3, 4, 5]\n",
      "[1, 2]\n",
      "[1, 2, 3, 4, 5, 60]\n",
      "60 [1, 2, 3, 4, 5]\n",
      "[2, 4, 6, 8, 10]\n",
      "[2, 6, 10]\n"
     ]
    }
   ],
   "source": [
    "l = [1,2,3,4,5]\n",
    "\n",
    "print(l)\n",
    "\n",
    "print(len(l))                     # get number of items in a list\n",
    "\n",
    "print(l[0])                       # access a list item (index starts from 0)\n",
    "print(l[2])\n",
    "print(l[-1])                      # indexes can be negative\n",
    "print(l[1:4])                     # access a range of indices\n",
    "print(l[2:])                      # slice list from index till the end\n",
    "print(l[:2])                      # slice list from beginning till the index\n",
    "\n",
    "l.append(60)                      # add item to end of list\n",
    "print(l)\n",
    "i = l.pop()                       # remove and return item from end of list\n",
    "print(i,l)\n",
    "\n",
    "print([i*2 for i in l])           # list comprehension\n",
    "print([i*2 for i in l if i%2==1])"
   ]
  },
  {
   "cell_type": "markdown",
   "metadata": {},
   "source": [
    "## Dictionaries\n",
    "\n",
    "Dictionary are basically hash maps\n",
    "\n",
    "[Documentation](https://docs.python.org/3.6/library/stdtypes.html#mapping-types-dict)"
   ]
  },
  {
   "cell_type": "code",
   "execution_count": 5,
   "metadata": {},
   "outputs": [
    {
     "name": "stdout",
     "output_type": "stream",
     "text": [
      "{'a': 10, 'b': 20, 'c': 30}\n",
      "10\n",
      "{'a': 10, 'b': 20, 'c': 30, 'd': 40}\n"
     ]
    }
   ],
   "source": [
    "d = {'a':10,'b':20,'c':30}\n",
    "\n",
    "print(d)\n",
    "\n",
    "print(d['a']) # access element\n",
    "\n",
    "d['d'] = 40\n",
    "print(d)"
   ]
  },
  {
   "cell_type": "markdown",
   "metadata": {},
   "source": [
    "## Sets\n",
    "\n",
    "Sets are hashed set datastuctures\n",
    "\n",
    "[Documentation](https://docs.python.org/3.6/library/stdtypes.html#set-types-set-frozenset)"
   ]
  },
  {
   "cell_type": "code",
   "execution_count": 6,
   "metadata": {},
   "outputs": [
    {
     "name": "stdout",
     "output_type": "stream",
     "text": [
      "{'dog', 'cow', 'cat'}\n",
      "True\n",
      "False\n",
      "{'dog', 'cow', 'cat', 'pig'}\n",
      "{'dog', 'cow', 'cat', 'pig'}\n",
      "{'cow', 'cat', 'pig'}\n"
     ]
    }
   ],
   "source": [
    "s = {'cat','dog','cow'}\n",
    "\n",
    "print(s)\n",
    "\n",
    "print('cat' in s) # check if element is in set\n",
    "print('fish' in s)\n",
    "\n",
    "s.add('pig')\n",
    "print(s)\n",
    "s.add('cat')\n",
    "print(s)\n",
    "\n",
    "s.remove('dog')\n",
    "print(s)"
   ]
  },
  {
   "cell_type": "markdown",
   "metadata": {},
   "source": [
    "## If Else\n",
    "\n",
    "Similar to other languages python offers if-else control statements\n",
    "\n",
    "[Documentation](https://docs.python.org/3.6/tutorial/controlflow.html?highlight=else#if-statements)"
   ]
  },
  {
   "cell_type": "code",
   "execution_count": 7,
   "metadata": {},
   "outputs": [
    {
     "name": "stdout",
     "output_type": "stream",
     "text": [
      "odd\n"
     ]
    }
   ],
   "source": [
    "a = 7\n",
    "\n",
    "if a%2==0:\n",
    "    print('even')\n",
    "else:\n",
    "    print('odd')"
   ]
  },
  {
   "cell_type": "code",
   "execution_count": 8,
   "metadata": {},
   "outputs": [
    {
     "name": "stdout",
     "output_type": "stream",
     "text": [
      "B\n"
     ]
    }
   ],
   "source": [
    "a = 65\n",
    "\n",
    "if a<40:\n",
    "    print('F')\n",
    "elif a<60:\n",
    "    print('C')\n",
    "elif a<80:\n",
    "    print('B')\n",
    "else:\n",
    "    print('A')"
   ]
  },
  {
   "cell_type": "markdown",
   "metadata": {},
   "source": [
    "## For\n",
    "\n",
    "Python's for is a bit different from other languages. In python the for statement iterates over a sequence of values. The values themselves can be anything.\n",
    "\n",
    "[Documentation](https://docs.python.org/3.6/tutorial/controlflow.html?highlight=else#for-statements)"
   ]
  },
  {
   "cell_type": "code",
   "execution_count": 9,
   "metadata": {},
   "outputs": [
    {
     "name": "stdout",
     "output_type": "stream",
     "text": [
      "a\n",
      "b\n",
      "c\n"
     ]
    }
   ],
   "source": [
    "l = ['a','b','c']\n",
    "\n",
    "for i in l:\n",
    "    print(i)"
   ]
  },
  {
   "cell_type": "code",
   "execution_count": 10,
   "metadata": {},
   "outputs": [
    {
     "name": "stdout",
     "output_type": "stream",
     "text": [
      "0\n",
      "1\n",
      "2\n",
      "3\n",
      "4\n"
     ]
    }
   ],
   "source": [
    "for i in range(5):\n",
    "    print(i)"
   ]
  },
  {
   "cell_type": "code",
   "execution_count": 11,
   "metadata": {},
   "outputs": [
    {
     "name": "stdout",
     "output_type": "stream",
     "text": [
      "0 a\n",
      "1 b\n",
      "2 c\n"
     ]
    }
   ],
   "source": [
    "l = ['a','b','c']\n",
    "\n",
    "for i,v in enumerate(l):\n",
    "    print('%d %s'%(i,v))"
   ]
  },
  {
   "cell_type": "code",
   "execution_count": 12,
   "metadata": {},
   "outputs": [
    {
     "name": "stdout",
     "output_type": "stream",
     "text": [
      "found at 4\n"
     ]
    }
   ],
   "source": [
    "l = [5,6,1,3,7,2]\n",
    "k = 7\n",
    "\n",
    "for i,v in enumerate(l):\n",
    "    if v==k:\n",
    "        print('found at %d'%i)\n",
    "        break\n",
    "else:\n",
    "    print('not found')"
   ]
  },
  {
   "cell_type": "markdown",
   "metadata": {},
   "source": [
    "## Functions\n",
    "\n",
    "Python allows us to define functions similar to other programming languages.\n",
    "\n",
    "[Documentation](https://docs.python.org/3.6/reference/compound_stmts.html#function)"
   ]
  },
  {
   "cell_type": "code",
   "execution_count": 13,
   "metadata": {},
   "outputs": [
    {
     "name": "stdout",
     "output_type": "stream",
     "text": [
      "this is a function\n"
     ]
    }
   ],
   "source": [
    "def f():\n",
    "    print('this is a function')\n",
    "    \n",
    "f()"
   ]
  },
  {
   "cell_type": "code",
   "execution_count": 14,
   "metadata": {},
   "outputs": [
    {
     "name": "stdout",
     "output_type": "stream",
     "text": [
      "value of a is 2\n",
      "value of a is 3\n"
     ]
    }
   ],
   "source": [
    "def f(a):\n",
    "    print('value of a is %d'%a)\n",
    "    \n",
    "f(2)\n",
    "f(3)"
   ]
  },
  {
   "cell_type": "code",
   "execution_count": 15,
   "metadata": {},
   "outputs": [
    {
     "name": "stdout",
     "output_type": "stream",
     "text": [
      "value of a is 1\n",
      "value of a is 2\n"
     ]
    }
   ],
   "source": [
    "def f(a=1):\n",
    "    print('value of a is %d'%a)\n",
    "\n",
    "f()\n",
    "f(2)"
   ]
  },
  {
   "cell_type": "code",
   "execution_count": 16,
   "metadata": {},
   "outputs": [
    {
     "name": "stdout",
     "output_type": "stream",
     "text": [
      "4\n",
      "25\n"
     ]
    }
   ],
   "source": [
    "def f(a):\n",
    "    return a*a\n",
    "\n",
    "print(f(2))\n",
    "print(f(5))"
   ]
  },
  {
   "cell_type": "markdown",
   "metadata": {},
   "source": [
    "## Input\n",
    "\n",
    "[Documentation](https://docs.python.org/3.6/tutorial/inputoutput.html)"
   ]
  },
  {
   "cell_type": "code",
   "execution_count": 17,
   "metadata": {},
   "outputs": [
    {
     "name": "stdout",
     "output_type": "stream",
     "text": [
      "hello\n",
      "hello\n"
     ]
    }
   ],
   "source": [
    "a = input()\n",
    "\n",
    "print(a)"
   ]
  },
  {
   "cell_type": "code",
   "execution_count": 18,
   "metadata": {},
   "outputs": [
    {
     "name": "stdout",
     "output_type": "stream",
     "text": [
      "please input something:hello\n",
      "hello\n"
     ]
    }
   ],
   "source": [
    "a = input('please input something:')\n",
    "\n",
    "print(a)"
   ]
  }
 ],
 "metadata": {
  "kernelspec": {
   "display_name": "Python 3",
   "language": "python",
   "name": "python3"
  },
  "language_info": {
   "codemirror_mode": {
    "name": "ipython",
    "version": 3
   },
   "file_extension": ".py",
   "mimetype": "text/x-python",
   "name": "python",
   "nbconvert_exporter": "python",
   "pygments_lexer": "ipython3",
   "version": "3.6.5"
  }
 },
 "nbformat": 4,
 "nbformat_minor": 2
}

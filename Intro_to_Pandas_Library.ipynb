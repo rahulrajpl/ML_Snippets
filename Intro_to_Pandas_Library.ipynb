{
  "nbformat": 4,
  "nbformat_minor": 0,
  "metadata": {
    "colab": {
      "name": "Intro to Pandas Library.ipynb",
      "version": "0.3.2",
      "provenance": [],
      "collapsed_sections": [],
      "include_colab_link": true
    },
    "kernelspec": {
      "name": "python3",
      "display_name": "Python 3"
    }
  },
  "cells": [
    {
      "cell_type": "markdown",
      "metadata": {
        "id": "view-in-github",
        "colab_type": "text"
      },
      "source": [
        "[View in Colaboratory](https://colab.research.google.com/github/rahulrajpl/ML_Snippets/blob/master/Intro_to_Pandas_Library.ipynb)"
      ]
    },
    {
      "metadata": {
        "id": "Ybr1N2uMOP9P",
        "colab_type": "code",
        "colab": {}
      },
      "cell_type": "code",
      "source": [
        "import pandas as pd\n",
        "pd.__version__\n",
        "\n",
        "names = pd.Series(['rahul', 'raj', 'parvathy'])\n",
        "rolls = pd.Series([1,2,3])\n",
        "\n",
        "df = pd.DataFrame({'names':names, 'rolls':rolls})\n",
        "\n",
        "# To know interesting statistics of the particular csv file data\n",
        "# df = pd.read_csv(\"https://storage.googleapis.com/mledu-datasets/california_housing_train.csv\", sep=',')\n",
        "# df.describe()\n",
        "\n",
        "# To know the first few records of the DataFrame\n",
        "# df.head()\n",
        "\n",
        "# Graphing of the DataFrame using hist() function\n",
        "# df.hist(\"households\")\n",
        "\n",
        "# Accessing the DataFrame elements is same as method used for Dictionaries/Lists\n",
        "# print(df['names'])\n",
        "# df['rolls']\n",
        "# print(df['names'][1])\n",
        "\n",
        "# Applying pythons basics arithmetics to Series\n",
        "# rolls * 3\n",
        "\n",
        "# Numpy is popular scientific library of python. Pandas dataFrames can be argument to numpy functions\n",
        "# rolls * 3\n",
        "# import numpy as np\n",
        "# np.log(rolls)\n",
        "\n",
        "# Pandas Series.apply() function also can be used for any custom functions implemented using lambda expression in python\n",
        "# print(df['rolls'])\n",
        "# rolls.apply(lambda x: x*2)\n",
        "\n",
        "# Adding new Series to DataFrames\n",
        "df['age'] = pd.Series([29,30,25])\n",
        "df\n",
        "\n",
        "# Adding boolean value Series to DataFrame is the age is more than 28\n",
        "df['AgeOver'] = (df['age'].apply(lambda x: x > 28))\n",
        "\n",
        "# Reindexeing the pandas data set. Reindexing is a great way to randomise the dataset.\n",
        "# df['names'].reindex([2,0,1])\n",
        "\n",
        "# Numpy's random.permutation function can be used to randomise the dataset.\n",
        "import numpy as np\n",
        "df.reindex(np.random.permutation(df['rolls'].index))"
      ],
      "execution_count": 0,
      "outputs": []
    }
  ]
}
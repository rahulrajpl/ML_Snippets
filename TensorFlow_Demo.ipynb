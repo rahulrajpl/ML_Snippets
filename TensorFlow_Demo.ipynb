{
  "nbformat": 4,
  "nbformat_minor": 0,
  "metadata": {
    "colab": {
      "name": "TensorFlow Demo.ipynb",
      "version": "0.3.2",
      "provenance": [],
      "include_colab_link": true
    },
    "kernelspec": {
      "name": "python3",
      "display_name": "Python 3"
    }
  },
  "cells": [
    {
      "cell_type": "markdown",
      "metadata": {
        "id": "view-in-github",
        "colab_type": "text"
      },
      "source": [
        "[View in Colaboratory](https://colab.research.google.com/github/rahulrajpl/ML_Snippets/blob/master/TensorFlow_Demo.ipynb)"
      ]
    },
    {
      "metadata": {
        "id": "tlPS-pWHM5Jk",
        "colab_type": "code",
        "colab": {
          "base_uri": "https://localhost:8080/",
          "height": 34
        },
        "outputId": "afd3021b-3fa0-4228-e821-d1adb5c2f42a"
      },
      "cell_type": "code",
      "source": [
        "import tensorflow as tf\n",
        "c = tf.constant('Hello World')\n",
        "with tf.Session() as sess:\n",
        "  print(sess.run(c).decode())"
      ],
      "execution_count": 10,
      "outputs": [
        {
          "output_type": "stream",
          "text": [
            "Hello World\n"
          ],
          "name": "stdout"
        }
      ]
    }
  ]
}